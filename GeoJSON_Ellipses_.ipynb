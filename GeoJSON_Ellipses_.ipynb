{
  "nbformat": 4,
  "nbformat_minor": 0,
  "metadata": {
    "colab": {
      "provenance": [],
      "include_colab_link": true
    },
    "kernelspec": {
      "name": "python3",
      "display_name": "Python 3"
    },
    "language_info": {
      "name": "python"
    }
  },
  "cells": [
    {
      "cell_type": "markdown",
      "metadata": {
        "id": "view-in-github",
        "colab_type": "text"
      },
      "source": [
        "<a href=\"https://colab.research.google.com/github/curtisarnold3/geoJSON/blob/main/GeoJSON_Ellipses_.ipynb\" target=\"_parent\"><img src=\"https://colab.research.google.com/assets/colab-badge.svg\" alt=\"Open In Colab\"/></a>"
      ]
    },
    {
      "cell_type": "code",
      "execution_count": 4,
      "metadata": {
        "colab": {
          "base_uri": "https://localhost:8080/"
        },
        "id": "mBcwUvSj_83K",
        "outputId": "25691d3d-010c-44f2-a1ef-19f76817ce0b"
      },
      "outputs": [
        {
          "output_type": "stream",
          "name": "stdout",
          "text": [
            "Requirement already satisfied: shapely in /usr/local/lib/python3.10/dist-packages (2.0.4)\n",
            "Requirement already satisfied: numpy<3,>=1.14 in /usr/local/lib/python3.10/dist-packages (from shapely) (1.25.2)\n",
            "Requirement already satisfied: fiona in /usr/local/lib/python3.10/dist-packages (1.9.6)\n",
            "Requirement already satisfied: attrs>=19.2.0 in /usr/local/lib/python3.10/dist-packages (from fiona) (23.2.0)\n",
            "Requirement already satisfied: certifi in /usr/local/lib/python3.10/dist-packages (from fiona) (2024.2.2)\n",
            "Requirement already satisfied: click~=8.0 in /usr/local/lib/python3.10/dist-packages (from fiona) (8.1.7)\n",
            "Requirement already satisfied: click-plugins>=1.0 in /usr/local/lib/python3.10/dist-packages (from fiona) (1.1.1)\n",
            "Requirement already satisfied: cligj>=0.5 in /usr/local/lib/python3.10/dist-packages (from fiona) (0.7.2)\n",
            "Requirement already satisfied: six in /usr/local/lib/python3.10/dist-packages (from fiona) (1.16.0)\n"
          ]
        }
      ],
      "source": [
        "!pip install shapely\n",
        "!pip install fiona"
      ]
    },
    {
      "cell_type": "code",
      "source": [
        "import shapely\n",
        "import fiona\n",
        "from shapely.geometry import mapping\n",
        "from fiona.crs import from_epsg\n",
        "\n",
        "# Just Replace the coordinate.\n",
        "point = shapely.geometry.Point(30.113389, 60.710200)"
      ],
      "metadata": {
        "id": "XoeRwacoAfAd"
      },
      "execution_count": 5,
      "outputs": []
    },
    {
      "cell_type": "code",
      "source": [
        "def create_shapefile(point):\n",
        "  buffer = point.buffer(0.060)\n",
        "  buffer2 = point.buffer(0.030)\n",
        "\n",
        "  scale = shapely.affinity.scale(buffer, 0.4, 1)\n",
        "  rotate = shapely.affinity.rotate(scale, angle=20)\n",
        "\n",
        "  scale2 =  shapely.affinity.scale(buffer2, 0.4, 1)\n",
        "  rotate2 = shapely.affinity.rotate(scale2, angle=20)\n",
        "\n",
        "  crs = from_epsg(4326)\n",
        "\n",
        "  # Define the schema (geometry type and properties)\n",
        "  schema = {'geometry': 'Polygon', 'properties': {'id': 'int'}}\n",
        "  with fiona.open('Final_GeoJSON_Gromvato_AB_BEL.geojson', 'w', 'GeoJSON', schema, crs = crs) as c:\n",
        "      c.write({'geometry': mapping(rotate), 'properties': {'id': 1}})\n",
        "      c.write({'geometry': mapping(rotate2), 'properties': {'id': 2}})\n",
        "\n",
        "create_shapefile(point)"
      ],
      "metadata": {
        "colab": {
          "base_uri": "https://localhost:8080/"
        },
        "id": "hioN9uV7ATSP",
        "outputId": "68546ab9-07db-4e2b-8a61-817bf45a2dad"
      },
      "execution_count": 6,
      "outputs": [
        {
          "output_type": "stream",
          "name": "stderr",
          "text": [
            "<ipython-input-6-edb72efddd22>:19: FionaDeprecationWarning: This function will be removed in version 2.0. Please use CRS.from_epsg() instead.\n",
            "  create_shapefile(point)\n"
          ]
        }
      ]
    }
  ]
}